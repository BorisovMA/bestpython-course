{
 "cells": [
  {
   "cell_type": "code",
   "execution_count": 4,
   "id": "8cf65e2c",
   "metadata": {},
   "outputs": [],
   "source": [
    "def print_hi(name):\n",
    "    # Use a breakpoint in the code line below to debug your script.\n",
    "    print(f'Hi, {name}') "
   ]
  },
  {
   "cell_type": "code",
   "execution_count": 5,
   "id": "759f2ea1",
   "metadata": {},
   "outputs": [
    {
     "name": "stdout",
     "output_type": "stream",
     "text": [
      "Hi, Misha\n"
     ]
    }
   ],
   "source": [
    "print_hi('Misha')\n"
   ]
  },
  {
   "cell_type": "code",
   "execution_count": null,
   "id": "6cb0ad8a",
   "metadata": {},
   "outputs": [],
   "source": []
  }
 ],
 "metadata": {
  "kernelspec": {
   "display_name": "Python 3",
   "language": "python",
   "name": "python3"
  },
  "language_info": {
   "codemirror_mode": {
    "name": "ipython",
    "version": 3
   },
   "file_extension": ".py",
   "mimetype": "text/x-python",
   "name": "python",
   "nbconvert_exporter": "python",
   "pygments_lexer": "ipython3",
   "version": "3.8.8"
  }
 },
 "nbformat": 4,
 "nbformat_minor": 5
}
